{
 "cells": [
  {
   "cell_type": "markdown",
   "metadata": {
    "id": "W1NMZtcAyH6X"
   },
   "source": [
    "\n",
    "# Lógica de programação com Python\n"
   ]
  },
  {
   "cell_type": "code",
   "execution_count": null,
   "metadata": {
    "colab": {
     "base_uri": "https://localhost:8080/"
    },
    "id": "9uUi_USFx0Os",
    "outputId": "49feda7a-a0fc-4eff-977c-9f08d088aabd"
   },
   "outputs": [],
   "source": [
    "1+1"
   ]
  },
  {
   "cell_type": "code",
   "execution_count": null,
   "metadata": {
    "colab": {
     "base_uri": "https://localhost:8080/",
     "height": 35
    },
    "id": "_7HrgYYiytuG",
    "outputId": "99a00313-41b3-4b4e-ced1-da99add7ea25"
   },
   "outputs": [],
   "source": [
    "'Lucas'"
   ]
  },
  {
   "cell_type": "code",
   "execution_count": null,
   "metadata": {
    "id": "Ca8CCwa8y01o"
   },
   "outputs": [],
   "source": [
    "nome = 'Lucas'"
   ]
  },
  {
   "cell_type": "code",
   "execution_count": null,
   "metadata": {
    "id": "eGkmG7wqzEUg"
   },
   "outputs": [],
   "source": [
    "idade = 24"
   ]
  },
  {
   "cell_type": "code",
   "execution_count": null,
   "metadata": {
    "colab": {
     "base_uri": "https://localhost:8080/"
    },
    "id": "4FtHJ4bGz0fS",
    "outputId": "afe6a4f9-49db-4e4e-b501-28bfdb744016"
   },
   "outputs": [],
   "source": [
    "print(f'O nome é {nome} e sua idade e {idade} anos')"
   ]
  },
  {
   "cell_type": "markdown",
   "metadata": {
    "id": "d1gjTDHA2fLx"
   },
   "source": [
    "# Criando minha primeira função\n"
   ]
  },
  {
   "cell_type": "code",
   "execution_count": null,
   "metadata": {
    "id": "FSFKDER30NHA"
   },
   "outputs": [],
   "source": [
    "def saudacao():\n",
    "  nome = input('Qual o seu nome ? ')\n",
    "  print(f'Olá {nome}')"
   ]
  },
  {
   "cell_type": "code",
   "execution_count": null,
   "metadata": {
    "colab": {
     "base_uri": "https://localhost:8080/"
    },
    "id": "QaabQKdf0NJn",
    "outputId": "eaeff1ae-9ffc-4f52-9a1e-5f5d7d4bace9"
   },
   "outputs": [],
   "source": [
    "saudacao()"
   ]
  },
  {
   "cell_type": "markdown",
   "metadata": {
    "id": "JqnBehJsmP0g"
   },
   "source": [
    "# Funções Ccom parâmetro\n"
   ]
  },
  {
   "cell_type": "code",
   "execution_count": null,
   "metadata": {
    "id": "u3aBLSTK0NMX"
   },
   "outputs": [],
   "source": [
    "nome = 'Abrantes'"
   ]
  },
  {
   "cell_type": "code",
   "execution_count": null,
   "metadata": {
    "id": "8AT7vn_v0NOw"
   },
   "outputs": [],
   "source": [
    "def saudacao_com_parametro(nome_da_pessoa):\n",
    "  print(f'Olá {nome_da_pessoa}')  "
   ]
  },
  {
   "cell_type": "code",
   "execution_count": null,
   "metadata": {
    "colab": {
     "base_uri": "https://localhost:8080/"
    },
    "id": "hxlwJzOZpNXO",
    "outputId": "46c689c2-cb76-4b6d-b717-dbb8d4ee2289"
   },
   "outputs": [],
   "source": [
    "idade = 18\n",
    "\n",
    "def verifica_se_pode_dirigir(idade):\n",
    "  if idade > 18:\n",
    "    print('Tem permissão para dirigir')\n",
    "  else:\n",
    "    print('Não tem permisão para dirigir')\n",
    "\n",
    "verifica_se_pode_dirigir(idade)"
   ]
  },
  {
   "cell_type": "markdown",
   "metadata": {
    "id": "syv2KT7PpmX0"
   },
   "source": []
  },
  {
   "cell_type": "markdown",
   "metadata": {
    "id": "ki3KL41fpnnL"
   },
   "source": [
    "# Conversão de tipos"
   ]
  },
  {
   "cell_type": "code",
   "execution_count": null,
   "metadata": {
    "colab": {
     "base_uri": "https://localhost:8080/"
    },
    "id": "4sGFCBBSpuUH",
    "outputId": "981c5d74-6f09-4aed-83e4-637034d88ddc"
   },
   "outputs": [],
   "source": [
    "def verifica_se_pode_dirigir_sem_parametros():\n",
    "  idade2 = input('Qual é a sua idade ? ')\n",
    "  idade2 = int(idade2) #conversão aqui\n",
    "  if idade2 >= 18:\n",
    "    print('Tem permissão para dirigir')\n",
    "  else:\n",
    "    print('Não tem permisão para dirigir')\n",
    "\n",
    "verifica_se_pode_dirigir_sem_parametros()"
   ]
  },
  {
   "cell_type": "markdown",
   "metadata": {
    "id": "vgaooQZJr5IM"
   },
   "source": [
    "# Exercícios"
   ]
  },
  {
   "cell_type": "markdown",
   "metadata": {
    "id": "GlHzR-kDsBza"
   },
   "source": [
    "Uma pessoa vai até a padaria todos os dias. A distância de sua casa até o estabelecimento é de 100 metros e todo percurso é feito em 20 segundos.\n",
    "\n",
    "Para calcular a velocidade média e descobrir a razão do espaço pelo tempo, podemos dividir o espaço percorrido pelo tempo.\n",
    "\n",
    "Sabendo disso, a pessoa deseja criar uma função chamada velocidade, que recebe 2 parâmetros chamados espaco e tempo, realizar o cálculo e exibir uma saída semelhante ao exemplo abaixo:\n",
    "\n",
    "Velocidade: 5 m/s"
   ]
  },
  {
   "cell_type": "code",
   "execution_count": null,
   "metadata": {
    "colab": {
     "base_uri": "https://localhost:8080/"
    },
    "id": "aAQEPCR_sGSz",
    "outputId": "99131adf-69d4-4f21-a3db-3f4cf51afcbb"
   },
   "outputs": [],
   "source": [
    "def velocidade(espaco, tempo):\n",
    "  v = espaco / tempo\n",
    "  print(f\"Velocidade: {v}\")\n",
    "\n",
    "velocidade(100, 20)"
   ]
  },
  {
   "cell_type": "markdown",
   "metadata": {
    "id": "SUD-_IAbuRGn"
   },
   "source": [
    "# Criando uma lista"
   ]
  },
  {
   "cell_type": "code",
   "execution_count": null,
   "metadata": {
    "colab": {
     "base_uri": "https://localhost:8080/"
    },
    "id": "IO4MM-NsuW9L",
    "outputId": "cd774c9e-2606-418e-98c4-01b39a1856f6"
   },
   "outputs": [],
   "source": [
    "idade = 22\n",
    "idade "
   ]
  },
  {
   "cell_type": "code",
   "execution_count": null,
   "metadata": {
    "colab": {
     "base_uri": "https://localhost:8080/"
    },
    "id": "NWnDtCmzulzi",
    "outputId": "04d687f6-aa6e-4b79-c202-e370678eb8e2"
   },
   "outputs": [],
   "source": [
    "type(idade) #serve para identificar o tipo da variavel"
   ]
  },
  {
   "cell_type": "code",
   "execution_count": null,
   "metadata": {
    "colab": {
     "base_uri": "https://localhost:8080/"
    },
    "id": "lfs3YUjSul7w",
    "outputId": "2e462d28-e24b-4edf-f770-da284288849b"
   },
   "outputs": [],
   "source": [
    "nome = 'Lucas'\n",
    "type (nome)"
   ]
  },
  {
   "cell_type": "code",
   "execution_count": null,
   "metadata": {
    "colab": {
     "base_uri": "https://localhost:8080/"
    },
    "id": "LbdHIcxgusTH",
    "outputId": "68af151c-6c73-48a7-ab4f-0ce4dec8de3c"
   },
   "outputs": [],
   "source": [
    "idades = [18, 22, 15, 50]\n",
    "type (idades)"
   ]
  },
  {
   "cell_type": "code",
   "execution_count": null,
   "metadata": {
    "id": "0QQQeVE_vEb8"
   },
   "outputs": [],
   "source": [
    "idades = [18, 19, 22, 15, 50]\n",
    "#         0    1   1   3\n",
    "#         0   -3  -2  -1"
   ]
  },
  {
   "cell_type": "code",
   "execution_count": null,
   "metadata": {
    "colab": {
     "base_uri": "https://localhost:8080/"
    },
    "id": "VoGFvP2svV_O",
    "outputId": "2da04a7a-3e03-42e9-9370-bb505f20058e"
   },
   "outputs": [],
   "source": [
    "idades [1]  "
   ]
  },
  {
   "cell_type": "code",
   "execution_count": null,
   "metadata": {
    "colab": {
     "base_uri": "https://localhost:8080/"
    },
    "id": "B64KBjM5vWIn",
    "outputId": "271612e7-84d7-4f41-8b9c-f21c60140c4e"
   },
   "outputs": [],
   "source": [
    "idades [0:2]"
   ]
  },
  {
   "cell_type": "code",
   "execution_count": null,
   "metadata": {
    "colab": {
     "base_uri": "https://localhost:8080/"
    },
    "id": "KbGOdIWyvnrW",
    "outputId": "889a1d66-79af-42b0-c4e5-b37bf979af8b"
   },
   "outputs": [],
   "source": [
    "idades [1:3]"
   ]
  },
  {
   "cell_type": "code",
   "execution_count": null,
   "metadata": {
    "colab": {
     "base_uri": "https://localhost:8080/"
    },
    "id": "uUUmRGNLvubP",
    "outputId": "1ada9a58-8a09-40ab-eeb6-e65d4289978d"
   },
   "outputs": [],
   "source": [
    "idades [:3]"
   ]
  },
  {
   "cell_type": "code",
   "execution_count": null,
   "metadata": {
    "colab": {
     "base_uri": "https://localhost:8080/"
    },
    "id": "aqqbintIvuji",
    "outputId": "198c41e4-40af-4fdd-844f-d7a767f992d6"
   },
   "outputs": [],
   "source": [
    "idades [1:]"
   ]
  },
  {
   "cell_type": "code",
   "execution_count": null,
   "metadata": {
    "colab": {
     "base_uri": "https://localhost:8080/"
    },
    "id": "DwWHQhCEvzg_",
    "outputId": "e6e4564f-d65c-4193-d665-b14057d847d1"
   },
   "outputs": [],
   "source": [
    "idades [-1]"
   ]
  },
  {
   "cell_type": "markdown",
   "metadata": {
    "id": "valO1RTmwcg5"
   },
   "source": [
    "#Laços e loops"
   ]
  },
  {
   "cell_type": "code",
   "execution_count": null,
   "metadata": {
    "colab": {
     "base_uri": "https://localhost:8080/"
    },
    "id": "JmQMOEG0wmEC",
    "outputId": "fccbb477-66ad-48b1-b970-6134c52d6c98"
   },
   "outputs": [],
   "source": [
    "idades  "
   ]
  },
  {
   "cell_type": "code",
   "execution_count": null,
   "metadata": {
    "colab": {
     "base_uri": "https://localhost:8080/"
    },
    "id": "KIAR_9cBwmK1",
    "outputId": "d47148c5-4788-4c2d-bf75-1674969db155"
   },
   "outputs": [],
   "source": [
    "#FOR FORA DA FUNÇÃO\n",
    "\n",
    "def verifica_se_pode_dirigir(idade):\n",
    "  if idade >= 18:\n",
    "    print(f'{idade} anos de idade, TEM permissão para dirigir')\n",
    "  else:\n",
    "    print(f'{idade} anos de idade, Não TEM permisão para dirigir')\n",
    "\n",
    "# para cada idade na nossa lista:\n",
    "#  verifica_se_pode_dirigir(idade)\n",
    "for idade in idades:\n",
    "  verifica_se_pode_dirigir(idade)\n",
    "\n",
    "\n"
   ]
  },
  {
   "cell_type": "code",
   "execution_count": null,
   "metadata": {
    "id": "ZCX4T2gP3KB0"
   },
   "outputs": [],
   "source": []
  },
  {
   "cell_type": "code",
   "execution_count": null,
   "metadata": {
    "colab": {
     "base_uri": "https://localhost:8080/"
    },
    "id": "_YTWYr7L3QVy",
    "outputId": "9d8fed86-1fdc-44ec-a0a5-de029c02551c"
   },
   "outputs": [],
   "source": [
    "#FOR DENTRO DA FUNÇÃO\n",
    "\n",
    "\n",
    "def verifica_se_pode_dirigir(idades):\n",
    "  for idade in idades:\n",
    "    if idade >= 18:\n",
    "      print(f'{idade} anos de idade, TEM permissão para dirigir')\n",
    "    else:\n",
    "      print(f'{idade} anos de idade, Não TEM permisão para dirigir')\n",
    "\n",
    "\n",
    "verifica_se_pode_dirigir(idades)\n",
    "\n"
   ]
  },
  {
   "cell_type": "markdown",
   "metadata": {
    "id": "KUM8DMvD3-xU"
   },
   "source": [
    "#Booleano"
   ]
  },
  {
   "cell_type": "code",
   "execution_count": null,
   "metadata": {
    "colab": {
     "base_uri": "https://localhost:8080/"
    },
    "id": "zZdjWwT74C-w",
    "outputId": "14d480c2-ef32-47c8-888a-33654c93a9bf"
   },
   "outputs": [],
   "source": [
    "idade = 18\n",
    "idade >= 18"
   ]
  },
  {
   "cell_type": "code",
   "execution_count": null,
   "metadata": {
    "colab": {
     "base_uri": "https://localhost:8080/"
    },
    "id": "3xRoDh_L4DEF",
    "outputId": "1e3e68b2-046f-4f6b-d02b-a0f72f602e70"
   },
   "outputs": [],
   "source": [
    "idade = 15\n",
    "idade >= 18"
   ]
  },
  {
   "cell_type": "code",
   "execution_count": null,
   "metadata": {
    "id": "pAprno804e-7"
   },
   "outputs": [],
   "source": [
    "permissoes = []\n",
    "idades = [20, 14, 40]\n",
    "\n",
    "def verifica_se_pode_dirigir(idades, permissoes):\n",
    "  for idade in idades:\n",
    "    if idade >= 18:\n",
    "      permissoes.append(True)\n",
    "    else:\n",
    "      permissoes.append(False)\n",
    "\n",
    "verifica_se_pode_dirigir(idades, permissoes)"
   ]
  },
  {
   "cell_type": "code",
   "execution_count": null,
   "metadata": {
    "colab": {
     "base_uri": "https://localhost:8080/"
    },
    "id": "o2LObaF44fFq",
    "outputId": "08ed6575-eed1-4dda-e1d8-77de2bbbbffc"
   },
   "outputs": [],
   "source": [
    "permissoes"
   ]
  },
  {
   "cell_type": "code",
   "execution_count": null,
   "metadata": {
    "colab": {
     "base_uri": "https://localhost:8080/"
    },
    "id": "wTEacYFx5MvG",
    "outputId": "1c900331-e5dd-4471-c389-a587586f3b34"
   },
   "outputs": [],
   "source": [
    "for permissao in permissoes:\n",
    "  if permissao == True:\n",
    "    print('Tem permissão para dirigir ')\n",
    "  else:\n",
    "    print('Não tem permissão para dirigir')"
   ]
  },
  {
   "cell_type": "markdown",
   "metadata": {
    "id": "ZG3IkYEa55fj"
   },
   "source": [
    "#Exercícios booleanos, loops e listas\n"
   ]
  },
  {
   "cell_type": "markdown",
   "metadata": {
    "id": "Q6j3KMjo5-9T"
   },
   "source": [
    "A plataforma da Alura possui diversos cursos de tecnologia e negócios. Podemos afirmar que a plataforma possui:\n",
    "\n",
    "Cursos de Tecnologia e Negócios Digitais\n",
    "\n",
    "Sabendo disso observe o código abaixo com todas as palavras em uma lista fora de ordem:\n",
    "\n",
    "`frase_alura = [' Digitais', 'e ', 'Negócios ', 'de ', 'Tecnologia ', 'Cursos ']`\n",
    "\n",
    "Sabendo disso, analise as alternativas abaixo e marque aquela que exibe o slogan de forma correta:"
   ]
  },
  {
   "cell_type": "code",
   "execution_count": null,
   "metadata": {
    "id": "m0IKdBT258d-"
   },
   "outputs": [],
   "source": [
    "frase_alura = [' Digitais', 'e ', 'Negócios ', 'de ', 'Tecnologia ', 'Cursos ']\n",
    "#                  0         1       2          3        4             5\n"
   ]
  },
  {
   "cell_type": "code",
   "execution_count": null,
   "metadata": {
    "colab": {
     "base_uri": "https://localhost:8080/",
     "height": 35
    },
    "id": "zfGEvgtg7KA2",
    "outputId": "da60cecb-c599-47c8-e883-0cc743a4510f"
   },
   "outputs": [],
   "source": [
    "frase_alura[5] + frase_alura[3] + frase_alura[4] + frase_alura[1] + frase_alura[2] + frase_alura[0]  "
   ]
  },
  {
   "cell_type": "markdown",
   "metadata": {
    "id": "7DIeg8-l7gr4"
   },
   "source": [
    "### Exercício 2\n",
    "\n",
    "A condicional if é uma estrutura condicional que executa um trecho de código, caso a afirmação seja verdadeira. Se for falsa, executa as afirmações dentro de else.\n",
    "\n",
    "Sabendo disso, observe o seguinte código:\n",
    "\n",
    "```\n",
    "a=2\n",
    "\n",
    "if a < 2:\n",
    " a = a + 1\n",
    "else:\n",
    " a = a + 2\n",
    "if a < 4:\n",
    " a = a - 4\n",
    "else:\n",
    " a = a + 6\n",
    "\n",
    "a\n",
    "```\n",
    "\n"
   ]
  },
  {
   "cell_type": "code",
   "execution_count": null,
   "metadata": {
    "colab": {
     "base_uri": "https://localhost:8080/"
    },
    "id": "Pe_T4mwj7h5j",
    "outputId": "c29752b0-aea8-4f10-88cb-22d628172950"
   },
   "outputs": [],
   "source": [
    "a=2\n",
    "\n",
    "if a < 2:\n",
    " a = a + 1\n",
    "else:\n",
    " a = a + 2\n",
    "if a < 4:\n",
    " a = a - 4\n",
    "else:\n",
    " a = a + 6\n",
    "\n",
    "a"
   ]
  },
  {
   "cell_type": "markdown",
   "metadata": {
    "id": "wy1GWgat8uac"
   },
   "source": [
    "### Explicação com comentarios"
   ]
  },
  {
   "cell_type": "code",
   "execution_count": null,
   "metadata": {
    "colab": {
     "base_uri": "https://localhost:8080/"
    },
    "id": "svzQkhdI8aOX",
    "outputId": "cfcf2c53-c676-4b43-ac07-9d2e41eb5ff5"
   },
   "outputs": [],
   "source": [
    "a=2\n",
    "\n",
    "if a < 2: #não possui o valor de maior ou igual portanto ele fica como menor mesmo sendo igual e cai para o else\n",
    " a = a + 1\n",
    "else:   #Aqui o a passa a valer 4\n",
    " a = a + 2\n",
    "if a < 4:   #não possui o valor de maior ou igual portanto ele fica como menor mesmo sendo igual e cai para o else na ultima condição ele somou 2 + 2 pq caiu o else, então aqui também vai cair no else\n",
    " a = a - 4\n",
    "else:\n",
    " a = a + 6  #soma 4 + 4 e depois imprime o valor de 10\n",
    "\n",
    "a"
   ]
  },
  {
   "cell_type": "markdown",
   "metadata": {
    "id": "n8ArBBh59WMi"
   },
   "source": [
    "#Tipos em uma Lista"
   ]
  },
  {
   "cell_type": "code",
   "execution_count": null,
   "metadata": {
    "colab": {
     "base_uri": "https://localhost:8080/"
    },
    "id": "hB5SDkL69sXu",
    "outputId": "8de0698a-9aed-4178-e28f-5a7424a4bc67"
   },
   "outputs": [],
   "source": [
    "#Podemos armazenar em uma lista diversos tipos ? sim conforme o código a baixo\n",
    "\n",
    "\n",
    "lista = ['Guilherme', 28, True, '18']\n",
    "\n",
    "for elemento in lista:\n",
    "  print(f'O elemento {elemento} é do tipo: ',type(elemento))"
   ]
  },
  {
   "cell_type": "code",
   "execution_count": null,
   "metadata": {
    "id": "gtG2T-vwVU0E"
   },
   "outputs": [],
   "source": []
  },
  {
   "cell_type": "markdown",
   "metadata": {
    "id": "ihCBi3BVVVOQ"
   },
   "source": [
    "# Imports"
   ]
  },
  {
   "cell_type": "code",
   "execution_count": null,
   "metadata": {
    "id": "n5z46MhKVXkH"
   },
   "outputs": [],
   "source": [
    "from random import randrange"
   ]
  },
  {
   "cell_type": "code",
   "execution_count": null,
   "metadata": {
    "colab": {
     "base_uri": "https://localhost:8080/"
    },
    "id": "ROoy85HAXBCW",
    "outputId": "3ac52702-0bcd-4677-9715-23c22892ec2e"
   },
   "outputs": [],
   "source": [
    "randrange(0,11)"
   ]
  },
  {
   "cell_type": "code",
   "execution_count": null,
   "metadata": {
    "colab": {
     "base_uri": "https://localhost:8080/"
    },
    "id": "WEDoaS7EXJ_L",
    "outputId": "cf1c6df6-556b-4754-f9cb-b57e0331e257"
   },
   "outputs": [],
   "source": [
    "notas_matematica = []\n",
    "\n",
    "for notas in range(8):\n",
    " notas_matematica.append(randrange(0,11))\n",
    "\n",
    "notas_matematica"
   ]
  },
  {
   "cell_type": "code",
   "execution_count": null,
   "metadata": {
    "colab": {
     "base_uri": "https://localhost:8080/"
    },
    "id": "WD2k1OPXZ6YN",
    "outputId": "0a34c43f-f4a9-45a9-93ad-589ad683b7e6"
   },
   "outputs": [],
   "source": [
    "len(notas_matematica)"
   ]
  },
  {
   "cell_type": "markdown",
   "metadata": {
    "id": "-P0GvUSrekb6"
   },
   "source": [
    "#Gerando um gráfico com o Matplotlib"
   ]
  },
  {
   "cell_type": "code",
   "execution_count": null,
   "metadata": {
    "id": "CB1VRZGMeofx"
   },
   "outputs": [],
   "source": [
    "import matplotlib.pyplot as plt"
   ]
  },
  {
   "cell_type": "code",
   "execution_count": null,
   "metadata": {
    "colab": {
     "base_uri": "https://localhost:8080/",
     "height": 295
    },
    "id": "CYocblsSfX7Z",
    "outputId": "ff35f4a5-bdc8-43cd-cf54-b28fd323b80b"
   },
   "outputs": [],
   "source": [
    "x = list(range(1, 9))\n",
    "y = notas_matematica\n",
    "plt.plot(x, y, marker='o')\n",
    "plt.title('Notas de matemática')\n",
    "plt.xlabel('Provas')\n",
    "plt.ylabel('Notas')\n",
    "plt.show()"
   ]
  },
  {
   "cell_type": "code",
   "execution_count": null,
   "metadata": {
    "colab": {
     "base_uri": "https://localhost:8080/"
    },
    "id": "cPlJOJM8f-A8",
    "outputId": "83fb95fa-40d7-4379-b9ca-1204eb1ab97a"
   },
   "outputs": [],
   "source": [
    "notas_matematica"
   ]
  }
 ],
 "metadata": {
  "colab": {
   "collapsed_sections": [
    "W1NMZtcAyH6X",
    "d1gjTDHA2fLx",
    "JqnBehJsmP0g",
    "ki3KL41fpnnL",
    "vgaooQZJr5IM",
    "SUD-_IAbuRGn",
    "valO1RTmwcg5",
    "KUM8DMvD3-xU",
    "ZG3IkYEa55fj",
    "n8ArBBh59WMi",
    "ihCBi3BVVVOQ",
    "-P0GvUSrekb6"
   ],
   "provenance": []
  },
  "kernelspec": {
   "display_name": "Python 3",
   "name": "python3"
  },
  "language_info": {
   "name": "python"
  }
 },
 "nbformat": 4,
 "nbformat_minor": 0
}

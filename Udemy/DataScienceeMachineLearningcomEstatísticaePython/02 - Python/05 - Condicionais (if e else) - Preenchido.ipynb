{
 "cells": [
  {
   "cell_type": "code",
   "execution_count": 1,
   "metadata": {},
   "outputs": [
    {
     "name": "stdout",
     "output_type": "stream",
     "text": [
      "Continue\n"
     ]
    }
   ],
   "source": [
    "devo_continuar = True\n",
    "if devo_continuar == True:\n",
    "    print('Continue')"
   ]
  },
  {
   "cell_type": "code",
   "execution_count": 2,
   "metadata": {},
   "outputs": [
    {
     "name": "stdout",
     "output_type": "stream",
     "text": [
      "Continue\n"
     ]
    }
   ],
   "source": [
    "if devo_continuar:\n",
    "    print('Continue')"
   ]
  },
  {
   "cell_type": "code",
   "execution_count": 3,
   "metadata": {},
   "outputs": [],
   "source": [
    "pessoas_conhecidas = ['João','Maria','José','Ana']"
   ]
  },
  {
   "cell_type": "code",
   "execution_count": 4,
   "metadata": {},
   "outputs": [
    {
     "name": "stdout",
     "output_type": "stream",
     "text": [
      "Entre com o nome de uma pessoa:Maria\n"
     ]
    }
   ],
   "source": [
    "pessoa = input('Entre com o nome de uma pessoa:')"
   ]
  },
  {
   "cell_type": "code",
   "execution_count": 5,
   "metadata": {},
   "outputs": [
    {
     "data": {
      "text/plain": [
       "'Maria'"
      ]
     },
     "execution_count": 5,
     "metadata": {},
     "output_type": "execute_result"
    }
   ],
   "source": [
    "pessoa"
   ]
  },
  {
   "cell_type": "code",
   "execution_count": 6,
   "metadata": {},
   "outputs": [
    {
     "name": "stdout",
     "output_type": "stream",
     "text": [
      "Você conhece essa pessoa\n"
     ]
    }
   ],
   "source": [
    "if pessoa in pessoas_conhecidas:\n",
    "    print('Você conhece essa pessoa')"
   ]
  },
  {
   "cell_type": "code",
   "execution_count": 7,
   "metadata": {},
   "outputs": [],
   "source": [
    "if pessoa not in pessoas_conhecidas:\n",
    "    print('Você não conhece essa pessoa')"
   ]
  },
  {
   "cell_type": "code",
   "execution_count": 8,
   "metadata": {},
   "outputs": [
    {
     "name": "stdout",
     "output_type": "stream",
     "text": [
      "Você conhece essa pessoa\n"
     ]
    }
   ],
   "source": [
    "if pessoa in pessoas_conhecidas:\n",
    "    print('Você conhece essa pessoa')\n",
    "else: # se não\n",
    "    print('Você não conhece essa pessoa')"
   ]
  },
  {
   "cell_type": "code",
   "execution_count": 9,
   "metadata": {},
   "outputs": [
    {
     "name": "stdout",
     "output_type": "stream",
     "text": [
      "Você conhece Maria\n"
     ]
    }
   ],
   "source": [
    "if pessoa in pessoas_conhecidas:\n",
    "    print(f'Você conhece {pessoa}')\n",
    "else: # se não\n",
    "    print('Você não conhece {}'.format(pessoa))"
   ]
  }
 ],
 "metadata": {
  "kernelspec": {
   "display_name": "Python 3",
   "language": "python",
   "name": "python3"
  },
  "language_info": {
   "codemirror_mode": {
    "name": "ipython",
    "version": 3
   },
   "file_extension": ".py",
   "mimetype": "text/x-python",
   "name": "python",
   "nbconvert_exporter": "python",
   "pygments_lexer": "ipython3",
   "version": "3.7.3"
  }
 },
 "nbformat": 4,
 "nbformat_minor": 2
}

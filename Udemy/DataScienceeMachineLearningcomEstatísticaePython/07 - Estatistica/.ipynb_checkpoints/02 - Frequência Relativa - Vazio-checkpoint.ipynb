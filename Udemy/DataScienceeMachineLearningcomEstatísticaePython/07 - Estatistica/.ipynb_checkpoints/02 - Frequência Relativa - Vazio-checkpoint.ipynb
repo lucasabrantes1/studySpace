{
 "cells": [
  {
   "cell_type": "code",
   "execution_count": 1,
   "metadata": {},
   "outputs": [],
   "source": [
    "import pandas as pd\n",
    "import matplotlib.pyplot as plt"
   ]
  },
  {
   "cell_type": "code",
   "execution_count": 2,
   "metadata": {},
   "outputs": [],
   "source": [
    "def calcula_ticks(lista,barras):\n",
    "    lista.sort()\n",
    "    menor_valor = lista[0]\n",
    "    maior_valor = lista[-1]\n",
    "    intervalo = (maior_valor - menor_valor)/barras\n",
    "    ticks = [menor_valor]\n",
    "    ultimo = menor_valor+intervalo\n",
    "    ticks.append(ultimo)\n",
    "    for x in range(barras-1):\n",
    "        ultimo += intervalo\n",
    "        ticks.append(ultimo)\n",
    "    return ticks"
   ]
  },
  {
   "cell_type": "code",
   "execution_count": 3,
   "metadata": {},
   "outputs": [],
   "source": [
    "km = pd.Series([4,6,6,7,11,13,18,19,21,24,26,27,35,36,36,42,43,45,49])"
   ]
  },
  {
   "cell_type": "code",
   "execution_count": null,
   "metadata": {},
   "outputs": [],
   "source": []
  },
  {
   "cell_type": "code",
   "execution_count": null,
   "metadata": {},
   "outputs": [],
   "source": []
  }
 ],
 "metadata": {
  "kernelspec": {
   "display_name": "Python 3",
   "language": "python",
   "name": "python3"
  },
  "language_info": {
   "codemirror_mode": {
    "name": "ipython",
    "version": 3
   },
   "file_extension": ".py",
   "mimetype": "text/x-python",
   "name": "python",
   "nbconvert_exporter": "python",
   "pygments_lexer": "ipython3",
   "version": "3.7.3"
  }
 },
 "nbformat": 4,
 "nbformat_minor": 2
}

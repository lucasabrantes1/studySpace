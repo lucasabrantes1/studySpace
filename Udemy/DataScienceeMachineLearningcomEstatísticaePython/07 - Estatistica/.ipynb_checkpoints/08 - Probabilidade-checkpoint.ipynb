{
 "cells": [
  {
   "cell_type": "markdown",
   "metadata": {},
   "source": [
    "# Probabilidade\n",
    "* **Espaço Amostral**: todos os resultados possíveis (moeda: K,C)\n",
    "* **Probabilidade**: chance de um evento ocorrer\n",
    "    * Escala de 0 a 1\n",
    "        * 0 ==> certo de que **não vai acontecer**\n",
    "        * 1 ==> certo que **vai acontecer**\n",
    "        * 0.5 ==> **igualmente** possível de acontecer ou de não acontecer\n",
    "        * Ex1: **0.05 provavelmente não** vai acontecer, mas pode acontecer\n",
    "        * Ex2: **0.95 provavelmente vai** acontecer, mas pode não acontecer"
   ]
  },
  {
   "cell_type": "markdown",
   "metadata": {},
   "source": [
    "<center><strong>Probabilidade Teórica</strong>: o que a gente espera que aconteça ou o que deveria acontecer</center>\n",
    "$$P(E) = {\\frac {resultados} {espaço amostral}}$$"
   ]
  },
  {
   "cell_type": "markdown",
   "metadata": {},
   "source": [
    "<center>Ex: Jogar uma moeda pro alto. Se quero cara.</center>\n",
    "$$P(K) = {\\frac {1} {2}}=0.5$$"
   ]
  },
  {
   "cell_type": "markdown",
   "metadata": {},
   "source": [
    "<center><strong>Probabilidade Empírica</strong>: a chance de algo acontecer baseado no que aconteceu em algum experimento</center>\n",
    "<center>Ex: Jogar uma moeda pro alto 100 vezes. Obtenho 56 caras.</center>\n",
    "$$P(K) = {\\frac {56} {100}}=0.56$$"
   ]
  },
  {
   "cell_type": "markdown",
   "metadata": {},
   "source": [
    "<strong>Lei dos grandes números (LGN)</strong>: quanto mais experimentos eu faço, mais perto a probabilidade empírica se aproxima da probabilidade teórica\n",
    "<p>\n",
    "    Ex: Se jogar uma moeda pro alto 10.000 vezes, estará mais perto de 50% de probabilidade de dar cara do que jogando apenas 100 vezes. Se jogar 1.000.000 vezes, mais perto de 50% estará do que 10.000 vezes..."
   ]
  },
  {
   "cell_type": "markdown",
   "metadata": {},
   "source": [
    "<center><strong>Probabilidade condicional</strong>: P(B|A) >> probabilidade de B considerando que A já ocorreu</center><br>\n",
    "$$P(B|A) = {\\frac {P(A \\cap B)} {P(A)}}$$"
   ]
  },
  {
   "cell_type": "markdown",
   "metadata": {},
   "source": [
    "<center><strong>e: P(A e B)</strong>: probabilidade dos dois ocorrerem juntos</center><br>\n",
    "$$P(A \\cap B) = {P(A)}\\cdot{P(B|A)}$$"
   ]
  },
  {
   "cell_type": "markdown",
   "metadata": {},
   "source": [
    "<center><strong>ou: P(A ou B)</strong>: probabilidade de A ocorrer ou B ocorrer ou os dois ocorrerem</center><br>\n",
    "$$P(A \\cup B) = {P(A)}+{P(B)}-{P(A \\cap B)}$$"
   ]
  },
  {
   "cell_type": "markdown",
   "metadata": {},
   "source": [
    "\n"
   ]
  },
  {
   "cell_type": "markdown",
   "metadata": {},
   "source": [
    "\n"
   ]
  },
  {
   "cell_type": "markdown",
   "metadata": {},
   "source": [
    "\n"
   ]
  },
  {
   "cell_type": "markdown",
   "metadata": {},
   "source": [
    "\n"
   ]
  },
  {
   "cell_type": "markdown",
   "metadata": {},
   "source": [
    "<center><strong>Exercícios</strong>: oito cartas de UNO, sendo quatro azul e quatro vermelhas.</center>\n",
    "<img src=\"imagens/redblue.png\"\n",
    "     alt=\"Uno\"\n",
    "     width=300px />"
   ]
  },
  {
   "cell_type": "markdown",
   "metadata": {},
   "source": [
    "<center>1. Probabilidade de ser Azul <strong>e</strong> Par</center><br>\n",
    "$$P(Azul \\cap Par) = {\\frac {4} {8}}\\cdot{\\frac {2} {4}} = {\\frac {1} {2}}\\cdot{\\frac {1} {2}}={\\frac {1} {4}}=0.25$$"
   ]
  },
  {
   "cell_type": "markdown",
   "metadata": {},
   "source": [
    "\n"
   ]
  },
  {
   "cell_type": "markdown",
   "metadata": {},
   "source": [
    "<center>2. Probabilidade de ser Azul sabendo que a carta <strong>é Par</strong></center><br>\n",
    "$$P(Azul|Par) = {\\frac {P(Azul \\cap Par)} {P(Par)}}={\\frac {2/8} {4/8}}={\\frac {2} {4}}={\\frac {1} {2}}=0.5$$"
   ]
  },
  {
   "cell_type": "markdown",
   "metadata": {},
   "source": [
    "\n"
   ]
  },
  {
   "cell_type": "markdown",
   "metadata": {},
   "source": [
    "<center>3. Probabilidade de ser Azul <strong>ou</strong> Par</center><br>\n",
    "$$P(Azul \\cup Par) = P(Azul)+P(Par)-P(Azul \\cap Par)={\\frac {4} {8}}+{\\frac {4} {8}}-{\\frac {2} {8}}={\\frac {6} {8}}={\\frac {3} {4}}=0.75$$"
   ]
  },
  {
   "cell_type": "markdown",
   "metadata": {},
   "source": [
    "\n"
   ]
  },
  {
   "cell_type": "markdown",
   "metadata": {},
   "source": [
    "<center>4. Probabilidade de pegar aleatoriamente duas cartas Azul <strong>sem substituição</strong></center><br>\n",
    "$$P(Azul_1 \\cap Azul_2) = P(Azul_1)\\cdot{P(Azul_2)} ={\\frac {4} {8}}\\cdot{\\frac {3} {7}}={\\frac {1} {2}}\\cdot{\\frac {3} {7}}={\\frac {3} {14}}=0.2143$$"
   ]
  },
  {
   "cell_type": "markdown",
   "metadata": {},
   "source": [
    "\n"
   ]
  },
  {
   "cell_type": "markdown",
   "metadata": {},
   "source": [
    "**Eventos independentes**: quando um evento ocorre não modifica a chance de outro evento ocorrer. <br />\n",
    "Ex: Cara ou Coroa. Podemos representá-los de três formas:\n",
    "* $P(A|B) = P(A)$\n",
    "* $P(B|A) = P(B)$\n",
    "* $P(A \\cap B) = P(A)\\cdot{P(B)}$"
   ]
  },
  {
   "cell_type": "markdown",
   "metadata": {},
   "source": [
    "**Mutuamente Exclusivo**: ambos não podem acontecer ao mesmo tempo.<br />\n",
    "Ex: Ao jogar um cubo, sejam A = números ímpares menores do que 4, B = números maiores do que 3\n",
    "* $A=[1,3]$ \n",
    "* $B=[4,5,6]$\n",
    "* $P(A \\cap B) = 0$"
   ]
  },
  {
   "cell_type": "markdown",
   "metadata": {},
   "source": [
    "\n"
   ]
  },
  {
   "cell_type": "markdown",
   "metadata": {},
   "source": [
    "<center><h1> Diagrama de Árvore</h1>\n",
    "Uma maneira de solucionar problemas de Probabilidade Condicional\n",
    "<img src=\"imagens/6cards.png\" alt=\"Uno\" width=200px />\n",
    "</center>"
   ]
  },
  {
   "cell_type": "markdown",
   "metadata": {},
   "source": [
    "Considerando a imagem acima, onde temos um total de 6 cartas, sendo 2 azuis e 4 vermelhas. Ao colocar essas cartas numa bolsa, retiraremos duas cartas em sequência, sem substituição. Responda qual a probabilidade em cada um dos seguintes cenários:\n",
    "    1. Azul na primeira, Azul na segunda.\n",
    "    2. Azul na primeira, Vermelha na segunda.\n",
    "    3. Vermelha na primeira, Azul na segunda.\n",
    "    4. Vermelha na primeira, Vermelha na segunda."
   ]
  },
  {
   "cell_type": "markdown",
   "metadata": {},
   "source": [
    "<img src=\"imagens/arvore.png\"  width=900px/>"
   ]
  },
  {
   "cell_type": "markdown",
   "metadata": {},
   "source": [
    "<center><h1>Probabilidade Condicional x Teorema de Bayes</h1></center>"
   ]
  },
  {
   "cell_type": "markdown",
   "metadata": {},
   "source": [
    "<center>\n",
    "    <h3>Probabilidade Condicional</h3>  \n",
    "      Probabilidade da carta ser <strong>vermelha</strong> sabendo que a carta <strong>é ímpar</strong>\n",
    "</center><br>\n",
    "$$P(vermelha|ímpar) = {\\frac {P(vermelha \\cap ímpar)} {P(ímpar)}}={\\frac {2/6} {4/6}}={\\frac {1/3} {2/3}}={\\frac {1} {2}}=0.5$$"
   ]
  },
  {
   "cell_type": "markdown",
   "metadata": {},
   "source": [
    "\n"
   ]
  },
  {
   "cell_type": "markdown",
   "metadata": {},
   "source": [
    "<center><h1>Teorema de Bayes</h1>\n",
    "Uma forma de calcular probabilidade condicional de uma hipótese dada uma nova evidência. $P(A|B)$\n",
    "</center><br />\n",
    "\n",
    "$$P(A|B) = {\\frac {P(B|A)\\cdot P(A)} {P(B)}}$$"
   ]
  },
  {
   "cell_type": "markdown",
   "metadata": {},
   "source": [
    "O Teorema de Bayes depende de três fatores:\n",
    "1. A probabilidade de um evento ocorrer dada uma Hipótese $P(B|A)$\n",
    "2. Probabilidade anterior da Hipótese $P(A)$\n",
    "3. Probabilidade anterior da Evidência $P(B)$\n"
   ]
  },
  {
   "cell_type": "markdown",
   "metadata": {},
   "source": [
    "Probabilidade de ter escolhido uma carta vermelha, sabendo que a carta é ímpar.\n",
    "\n",
    "* <strong>A</strong> = carta vermelha\n",
    "* <strong>B</strong> = carta ímpar\n",
    "\n",
    " * $P(A|B) = P(vermelha|ímpar) = ?$ \n",
    " * $P(B|A) = P(ímpar|vermelha) = 1/2$  \n",
    " * $P(A) = P(vermelha) = 4/6 = 2/3$\n",
    " * $P(B) = P(ímpar) = 4/6 = 2/3$\n",
    "\n",
    "$$P(vermelha|ímpar) = {\\frac {{1/2} \\cdot {2/3}} {2/3}}={\\frac {1}{2}}=0.5$$\n"
   ]
  },
  {
   "cell_type": "markdown",
   "metadata": {},
   "source": [
    "<h3>Teorema de Bayes</h3>\n",
    "Considere duas moedas em uma bolsa: uma comum, outra viciada (possui cara nos dois lados).\n",
    "Você retira uma moeda sem ver qual está pegando, joga para o alto, dá cara. Qual a probabilidade de você ter escolhido a moeda viciada sabendo que deu cara?\n",
    "\n",
    "* <strong>A</strong> = moeda viciada\n",
    "* <strong>B</strong> = cara\n",
    "\n",
    " * $P(A|B) = P(viciada|cara) = ?$ \n",
    " * $P(B|A) = P(cara|viciada) = 1$ # 100% \n",
    " * $P(A) = P(viciada) = 1/2$\n",
    " * $P(B) = P(cara) = 3/4$ \n",
    " \n",
    "$$P(viciada|cara) = {\\frac {{1} \\cdot {1/2}} {3/4}}={\\frac {1} {2}} \\cdot {\\frac {4} {3}}={\\frac {4} {6}}={\\frac {2}{3}}=0.6666$$\n"
   ]
  },
  {
   "cell_type": "markdown",
   "metadata": {},
   "source": [
    "<center>\n",
    "    <h3>Probabilidade Condicional</h3>  \n",
    "      probabilidade de você ter <strong>escolhido a moeda viciada</strong> sabendo que deu <strong>cara</strong>\n",
    "</center><br>\n",
    "$$P(viciada|cara) = {\\frac {P(viciada \\cdot cara)} {P(cara)}}={\\frac {1/2 \\cdot 1} {3/4}}={\\frac {1} {2}} \\cdot {\\frac {4} {3}}={\\frac {4} {6}}={\\frac {2} {3}}=0.6666$$"
   ]
  },
  {
   "cell_type": "markdown",
   "metadata": {},
   "source": [
    "**Conclusão**: como observado, ambas as fórmulas produzem o mesmo resultado, porém a forma de interpretar é diferente."
   ]
  }
 ],
 "metadata": {
  "kernelspec": {
   "display_name": "Python 3",
   "language": "python",
   "name": "python3"
  },
  "language_info": {
   "codemirror_mode": {
    "name": "ipython",
    "version": 3
   },
   "file_extension": ".py",
   "mimetype": "text/x-python",
   "name": "python",
   "nbconvert_exporter": "python",
   "pygments_lexer": "ipython3",
   "version": "3.7.3"
  }
 },
 "nbformat": 4,
 "nbformat_minor": 2
}

{
 "cells": [
  {
   "cell_type": "markdown",
   "metadata": {},
   "source": [
    "# Teste de Hipóteses\n",
    " Uma forma de testar uma afirmação"
   ]
  },
  {
   "cell_type": "markdown",
   "metadata": {},
   "source": [
    "1. Define-se duas hipóteses:\n",
    "    * $H_0$: Hipótese Nula ( geralmente usa-se = )\n",
    "        * Assumimos que é verdade\n",
    "    * $H_a$: Hipótese Alternativa ( geralmente >, <, ≠ )\n",
    "        * Usamos $H_a$ para tentar reunir provas suficientes para rejeitar $H_0$ <br />\n",
    "<br>\n",
    "2. Testa-se uma amostra \n",
    "<br>\n",
    "\n",
    "3. Calcula-se a probabilidade de $H_0$ ser verdadeira, baseando-se na nossa amostra (Através do **valor-p**)\n",
    "<br>\n",
    "\n",
    "4. Compara-se $\\alpha$ (a menor probabilidade de que nós ainda acreditaremos que $H_0$ é verdadeira):\n",
    "    * Se o valor-p (probabilidade de $H_0$ ser verdadeira) for menor que $\\alpha$, nós **rejeitaremos $H_0$ (valor-p < $\\alpha$)**\n",
    "    * Se o valor-p for maior que $\\alpha$ nós **falhamos em rejeitar $H_0$ (valor-p > $\\alpha$)**\n",
    "\n"
   ]
  },
  {
   "cell_type": "markdown",
   "metadata": {},
   "source": [
    "## Exemplo (Tribunal)\n",
    "Considere um tribunal. Uma pessoa é acusada de um crime.\n",
    "\n",
    "$H_0$: inocente <br>\n",
    "$H_a$: culpada\n",
    "\n",
    "Assume-se que a pessoa é inocente até comprovado que é culpada (p-value) além de uma dúvida razoável ($\\alpha$)\n",
    "\n",
    "Se comprovado culpado: rejeitamos a $H_0$ e concluímos que o acusado é \"culpado\".<br>\n",
    "Se não: falhamos em rejeitar a $H_0$ e concluímos que \"não é culpado\" ( a conclusão tem foco na $H_a$).\n",
    "\n",
    "**Nós nunca concluímos que $H_0$ é verdadeira**"
   ]
  },
  {
   "cell_type": "markdown",
   "metadata": {},
   "source": [
    "### Conclusões\n",
    "\"Existe (ou não existe) suficiente evidência para concluir (Hipótese Alternativa em contexto)\"."
   ]
  },
  {
   "cell_type": "markdown",
   "metadata": {},
   "source": [
    "## Teste de Hipóteses para proporções\n",
    "\n",
    "### Fórmulas\n",
    "Proporções são normalmente distribuidas com a proporção agindo como média, e $\\sqrt {\\frac {\\hat{p}\\hat{q}}{n}}$ como Erro Padrão\n",
    "$$\\hat{p} \\sim N(\\hat{p}, \\sqrt {\\frac {\\hat{p}\\hat{q}}{n}})$$\n",
    "\n",
    "No teste de hipóteses, ao invés da proporção, usamos os valores da $H_0$ (diferente do intervalo de confiança)\n",
    "\n",
    "Para calcular a probabilidade (valor-p), precisaremos do $\\hat{p}$ da proporção da amostra, $\\hat{p}$ da probabilidade da hipótese nula, e do Erro Padrão (EP).\n",
    "$$Z = \\frac {\\hat{p} - \\hat{p}_{H_0}}{EP}$$\n"
   ]
  },
  {
   "cell_type": "markdown",
   "metadata": {},
   "source": [
    "## Exemplo (IPhone)\n",
    "Uma empresa telefônica afirma que 43% dos usuários de smartphone nos EUA usam IPhone. Você duvida dessa afirmação. Então você faz uma pesquisa de 83 usuários americanos de smartphone. 44 deles usam IPhone. O que você pode concluir, se $\\alpha=0.05$?\n",
    "\n",
    "$H_0$: $\\hat{p}$ = 0.43 <br>\n",
    "$H_a$: $\\hat{p}$ ≠ 0.43 _(teste de duas caldas, rejeitamos se for menor ou maior)_\n",
    "\n",
    "$$\\hat{p} \\sim N(\\hat{p}, \\sqrt {\\frac {\\hat{p}\\hat{q}}{n}})=\\hat{p} \\sim N(0.43,\\sqrt {\\frac {0.43 \\cdot 0.57}{83}})=\\hat{p} \\sim N(0.43,0.0543)$$\n",
    "\n",
    "<img src=\"imagens/1.png\" width=350px /><br><br>\n",
    "\n",
    "<center>Calculando o $\\hat{p}$ da proporção</center>\n",
    "$$\\hat{p} = \\frac x n = \\frac {44}{83} = 0.53$$\n",
    "<img src=\"imagens/2.png\" width=350px /><br><br>\n",
    "\n",
    "\n",
    "<center>Calculando o valor-Z</center>\n",
    "$$Z = \\frac {\\hat{p} - \\hat{p}_{H_0}}{EP} = \\frac {0.53 - 0.43}{0.0543}=1.84$$\n",
    "<img src=\"imagens/3.png\" width=350px /><br><br>\n",
    "\n",
    "<center>Ir na tabela Z e verificar a probabilidade correspondente desse valor-Z: $0.9671$, se tirarmos a outra metade, $0.9671-0.5 = 0.4671$ </center>\n",
    "<img src=\"imagens/4.png\" width=350px /><br><br>\n",
    "\n",
    "<center>Mas a área que desejamos é a da calda. Logo, calculamos $0.5 - 0.4671 = 0.0329$</center>\n",
    "<img src=\"imagens/6.png\" width=350px /><br><br>\n",
    "\n",
    "Calculamos o valor-p = $0.0329 + 0.0329 = 0.0658$ (valor-p é a probabilidade de $H_0$ ser verdadeira baseando-se na nossa amostra).Em outras palavras, baseando-se na nossa pesquisa, existe 6.58% de chance da proporção de usuários realmente ser 43%.\n",
    "\n",
    "**Decisão**: falhamos em rejeitar a hipótese nula<br>\n",
    "**Motivo**: valor-p > $\\alpha$ = 0.068 > 0.005<br>\n",
    "**Conclusão**: Não existe suficiente evidência para concluir que a proporção de usuários de IPhone é diferente de 43%."
   ]
  },
  {
   "cell_type": "markdown",
   "metadata": {},
   "source": [
    "\n"
   ]
  },
  {
   "cell_type": "markdown",
   "metadata": {},
   "source": [
    "\n"
   ]
  },
  {
   "cell_type": "markdown",
   "metadata": {},
   "source": [
    "\n"
   ]
  },
  {
   "cell_type": "markdown",
   "metadata": {},
   "source": [
    "\n"
   ]
  },
  {
   "cell_type": "markdown",
   "metadata": {},
   "source": [
    "\n"
   ]
  },
  {
   "cell_type": "markdown",
   "metadata": {},
   "source": [
    "# Façamos um intervalo de confiança de 95%\n",
    "$$\\hat{p} = 0.53$$ <br>\n",
    "$$\\hat{q} = 0.47$$ <br>\n",
    "$$Z_{\\alpha/2} = Z_{0.05/2} = Z_{0.025}=1.96$$ <br>\n",
    "\n",
    "$$E = Z_{\\alpha/2} \\sqrt { \\frac {\\hat{p}\\hat{q}}{n}}=1.96 \\sqrt { \\frac {0.53 \\cdot 0.47}{83}}=0.107$$ <br/>\n",
    "\n",
    "$$[\\hat{p}-E,\\hat{p}+E] = [0.53-0.107, 0.53+0.107] = [0.423,0.637] $$ "
   ]
  },
  {
   "cell_type": "markdown",
   "metadata": {},
   "source": [
    "**Podemos dizer com 95% de confiança que a proporção de americanos que usam IPhone se encontra entre 42,3% e 63,7%.**"
   ]
  }
 ],
 "metadata": {
  "kernelspec": {
   "display_name": "Python 3",
   "language": "python",
   "name": "python3"
  },
  "language_info": {
   "codemirror_mode": {
    "name": "ipython",
    "version": 3
   },
   "file_extension": ".py",
   "mimetype": "text/x-python",
   "name": "python",
   "nbconvert_exporter": "python",
   "pygments_lexer": "ipython3",
   "version": "3.7.3"
  }
 },
 "nbformat": 4,
 "nbformat_minor": 2
}

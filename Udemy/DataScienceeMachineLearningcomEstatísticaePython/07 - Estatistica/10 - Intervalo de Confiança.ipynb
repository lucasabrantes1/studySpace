{
 "cells": [
  {
   "cell_type": "markdown",
   "metadata": {},
   "source": [
    "<center><h1> Intervalo de Confiança</h1>\n",
    " Um intervalo baseado numa amostra estatística, onde um parâmetro da População tem maior chance de estar localizado</center>"
   ]
  },
  {
   "cell_type": "markdown",
   "metadata": {},
   "source": [
    "<strong>Vocabulários:</strong>\n",
    "* $\\hat{p}$: Proporção (probabilidade de sucesso)\n",
    "* $\\hat{q}$: Probabilidade de Falha\n",
    "* $Nível De Confiança$: Probabilidade do intervalo conter o parâmetro da População\n",
    "* $\\alpha$: probabilidade de estar errado (100% menos o Nível de Confiança)\n",
    "* $E$: Margem de Erro\n",
    "* $Z$: Valor-Z que nos dá a área de cada calda lateral da distribuição normal correspondente a probabilidade de estarmos errados.\n",
    "\n",
    "<br/><center>Proporção ($\\hat{p}$)</center>\n",
    "$$\\boxed {\\hat{p} = \\frac {sucessos} {tentativas}=\\frac x n}$$\n",
    "\n",
    "<br/><center>Probabilidade de falha ($\\hat{q}$)</center>\n",
    "$$\\boxed {\\hat{q} = 1-\\hat{p}}$$\n",
    "\n",
    "<br/><center>Margem de Erro (E)</center>\n",
    "$$\\boxed {E = Z_{\\alpha/2} \\sqrt { \\frac {\\hat{p}\\hat{q}}{n}}}$$\n",
    "\n",
    "<br/><center>Intervalo de Confiança</center>\n",
    "$$\\boxed {\\hat{p}-E,\\hat{p}+E}$$ "
   ]
  },
  {
   "cell_type": "markdown",
   "metadata": {},
   "source": [
    "<center><h2>Nível de Confiança x $Z_{\\alpha/2}$</h2></center>\n",
    "\n",
    "| Niv Conf  | $Z_{\\alpha/2}$|\n",
    "|-----|--------------:|\n",
    "| 90% |  1.645 | \n",
    "| 95% |  1.960 | \n",
    "| 99% |  2.576 | "
   ]
  },
  {
   "cell_type": "markdown",
   "metadata": {},
   "source": [
    "\n"
   ]
  },
  {
   "cell_type": "markdown",
   "metadata": {},
   "source": [
    "\n"
   ]
  },
  {
   "cell_type": "markdown",
   "metadata": {},
   "source": [
    "\n"
   ]
  },
  {
   "cell_type": "markdown",
   "metadata": {},
   "source": [
    "\n"
   ]
  },
  {
   "cell_type": "markdown",
   "metadata": {},
   "source": [
    "\n"
   ]
  },
  {
   "cell_type": "markdown",
   "metadata": {},
   "source": [
    "\n"
   ]
  },
  {
   "cell_type": "markdown",
   "metadata": {},
   "source": [
    "<center><h2> Noventa Porcento</h2>\n",
    "Noventa por cento de confiança em que os dados de um parâmetro da População se encontram nesse intervalo\n",
    "<img src=\"imagens/90.png\" width=400px />\n",
    "</center>"
   ]
  },
  {
   "cell_type": "markdown",
   "metadata": {},
   "source": [
    "\n"
   ]
  },
  {
   "cell_type": "markdown",
   "metadata": {},
   "source": [
    "\n"
   ]
  },
  {
   "cell_type": "markdown",
   "metadata": {},
   "source": [
    "<center><h2>Noventa e Cinco Por Cento</h2>\n",
    "Noventa por cento de confiança de que os dados de um parâmetro da População se encontram nesse intervalo\n",
    "<img src=\"imagens/95.png\" width=400px />\n",
    "</center>"
   ]
  },
  {
   "cell_type": "markdown",
   "metadata": {},
   "source": [
    "\n"
   ]
  },
  {
   "cell_type": "markdown",
   "metadata": {},
   "source": [
    "\n"
   ]
  },
  {
   "cell_type": "markdown",
   "metadata": {},
   "source": [
    "<center><h1>Noventa e Nove Por Cento</h1>\n",
    "Noventa por cento de confiança de que os dados de um parâmetro da População se encontram nesse intervalo\n",
    "<img src=\"imagens/99.png\" width=400px />\n",
    "</center>"
   ]
  },
  {
   "cell_type": "markdown",
   "metadata": {},
   "source": [
    "# Exercício\n",
    "Numa pesquisa constatou-se que 95 de um total de 174 pessoas votarão em um específico candidato ao Senado. Construa uma estimativa com um Intervalo de Confiança de 90% de proporção das pessoas de toda a População que votarão nesse candidato. "
   ]
  },
  {
   "cell_type": "markdown",
   "metadata": {},
   "source": [
    "$$\\hat{p}=\\frac x n = \\frac {95} {174} = 0.546$$ <br/>\n",
    "\n",
    "$$\\hat{q}= 1-0.546 = 0.454$$ <br/>\n",
    "\n",
    "$$Z_{\\alpha/2} = Z_{0.10/2} = Z_{0.05}=1.645$$ <br/>\n",
    "\n",
    "$$E = Z_{\\alpha/2} \\sqrt { \\frac {\\hat{p}\\hat{q}}{n}}=1.645 \\sqrt { \\frac {0.546 \\cdot 0.454}{174}}=0.062$$ <br/>\n",
    "\n",
    "$$[\\hat{p}-E,\\hat{p}+E] = [0.546-0.062, 0.546+0.062] = [0.484,0.608] $$ "
   ]
  },
  {
   "cell_type": "markdown",
   "metadata": {},
   "source": [
    "### Interpretando o Intervalo de Confiança\n",
    "\"Estimamos com X% de confiança, que a real população (parâmetro em contexto) se encontra entre (menor) e (maior)\"\n",
    "\n",
    "**Estimamos com 90% de confiança que a proporção das pessoas de toda a população que votarão no candidato ao Senado se encontra entre 48,4% e 60,8%.**"
   ]
  }
 ],
 "metadata": {
  "kernelspec": {
   "display_name": "Python 3",
   "language": "python",
   "name": "python3"
  },
  "language_info": {
   "codemirror_mode": {
    "name": "ipython",
    "version": 3
   },
   "file_extension": ".py",
   "mimetype": "text/x-python",
   "name": "python",
   "nbconvert_exporter": "python",
   "pygments_lexer": "ipython3",
   "version": "3.7.3"
  }
 },
 "nbformat": 4,
 "nbformat_minor": 2
}

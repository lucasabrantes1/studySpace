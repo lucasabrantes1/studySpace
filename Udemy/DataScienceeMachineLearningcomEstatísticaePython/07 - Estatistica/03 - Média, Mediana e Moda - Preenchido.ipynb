{
 "cells": [
  {
   "cell_type": "code",
   "execution_count": 1,
   "metadata": {},
   "outputs": [],
   "source": [
    "import pandas as pd\n",
    "import matplotlib.pyplot as plt"
   ]
  },
  {
   "cell_type": "code",
   "execution_count": 2,
   "metadata": {},
   "outputs": [],
   "source": [
    "def calcula_ticks(lista,barras):\n",
    "    lista.sort()\n",
    "    menor_valor = lista[0]\n",
    "    maior_valor = lista[-1]\n",
    "    intervalo = (maior_valor - menor_valor)/barras\n",
    "    ticks = [menor_valor]\n",
    "    ultimo = menor_valor+intervalo\n",
    "    ticks.append(ultimo)\n",
    "    for x in range(barras-1):\n",
    "        ultimo += intervalo\n",
    "        ticks.append(ultimo)\n",
    "    return ticks"
   ]
  },
  {
   "cell_type": "code",
   "execution_count": 3,
   "metadata": {},
   "outputs": [],
   "source": [
    "km = pd.Series([4,6,6,7,11,13,18,19,21,24,26,27,35,36,36,42,43,45,49])"
   ]
  },
  {
   "cell_type": "code",
   "execution_count": 4,
   "metadata": {},
   "outputs": [],
   "source": [
    "def frequencia_relativa(total,yticks):\n",
    "    freq_rel = []\n",
    "    for item in yticks:\n",
    "        x = item/total\n",
    "        freq_rel.append(\"{0:.2f}%\".format(x*100))\n",
    "    return freq_rel"
   ]
  },
  {
   "cell_type": "code",
   "execution_count": 5,
   "metadata": {},
   "outputs": [
    {
     "data": {
      "image/png": "[encoded data removed]",
      "text/plain": [
       "<Figure size 432x288 with 1 Axes>"
      ]
     },
     "metadata": {
      "needs_background": "light"
     },
     "output_type": "display_data"
    }
   ],
   "source": [
    "lista = km.values\n",
    "barras = 5\n",
    "ax = km.plot.hist(bins=barras,rwidth=0.95)\n",
    "\n",
    "yticks = ax.get_yticks()\n",
    "total = len(lista)\n",
    "freq_rel = frequencia_relativa(total,yticks)\n",
    "ax.set_yticklabels(freq_rel)\n",
    "\n",
    "ticks = calcula_ticks(lista,barras)\n",
    "plt.xticks(ticks)\n",
    "plt.title('Distância de Casa para Trabalho')\n",
    "plt.xlabel('Km')\n",
    "plt.ylabel('Frequência')\n",
    "plt.grid(axis='y')"
   ]
  },
  {
   "cell_type": "code",
   "execution_count": 6,
   "metadata": {},
   "outputs": [],
   "source": [
    "import statistics as stats"
   ]
  },
  {
   "cell_type": "code",
   "execution_count": 7,
   "metadata": {},
   "outputs": [],
   "source": [
    "valores = [4,6,6,7,11,13,18,19,21,24,26,27,35,36,36,36,42,43,45,49]"
   ]
  },
  {
   "cell_type": "markdown",
   "metadata": {},
   "source": [
    "# Média\n",
    "Somatório de valores de determinados elementos dividido pela quantidade de elementos somados."
   ]
  },
  {
   "cell_type": "code",
   "execution_count": 8,
   "metadata": {},
   "outputs": [
    {
     "data": {
      "text/plain": [
       "25.2"
      ]
     },
     "execution_count": 8,
     "metadata": {},
     "output_type": "execute_result"
    }
   ],
   "source": [
    "stats.mean(valores)"
   ]
  },
  {
   "cell_type": "code",
   "execution_count": 9,
   "metadata": {},
   "outputs": [
    {
     "data": {
      "text/plain": [
       "25.2"
      ]
     },
     "execution_count": 9,
     "metadata": {},
     "output_type": "execute_result"
    }
   ],
   "source": [
    "sum(valores)/len(valores)"
   ]
  },
  {
   "cell_type": "markdown",
   "metadata": {},
   "source": [
    "# Mediana\n",
    "Dada uma sequência de valores ordenados em ordem crescente ou decrescente, a mediana é o valor central dessa sequência. Caso haja dois valores centrais, a mediana é dada pela média aritmética deles."
   ]
  },
  {
   "cell_type": "code",
   "execution_count": 10,
   "metadata": {},
   "outputs": [
    {
     "data": {
      "text/plain": [
       "25.0"
      ]
     },
     "execution_count": 10,
     "metadata": {},
     "output_type": "execute_result"
    }
   ],
   "source": [
    "stats.median(valores)"
   ]
  },
  {
   "cell_type": "markdown",
   "metadata": {},
   "source": [
    "# Moda\n",
    "Dado um conjunto de valores, a moda é o número que mais se repete."
   ]
  },
  {
   "cell_type": "code",
   "execution_count": 11,
   "metadata": {},
   "outputs": [
    {
     "data": {
      "text/plain": [
       "36"
      ]
     },
     "execution_count": 11,
     "metadata": {},
     "output_type": "execute_result"
    }
   ],
   "source": [
    "stats.mode(valores)"
   ]
  }
 ],
 "metadata": {
  "kernelspec": {
   "display_name": "Python 3",
   "language": "python",
   "name": "python3"
  },
  "language_info": {
   "codemirror_mode": {
    "name": "ipython",
    "version": 3
   },
   "file_extension": ".py",
   "mimetype": "text/x-python",
   "name": "python",
   "nbconvert_exporter": "python",
   "pygments_lexer": "ipython3",
   "version": "3.7.3"
  }
 },
 "nbformat": 4,
 "nbformat_minor": 2
}

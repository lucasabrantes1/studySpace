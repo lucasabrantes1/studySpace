{
 "cells": [
  {
   "cell_type": "markdown",
   "metadata": {},
   "source": [
    "# Aprendizagem Reinforçada\n",
    "## Taxi Auto-Dirigível\n",
    "O agente de Aprendizagem Reinforçada _(Reinforcement Learning)_ encontra um estado/cenário, e então toma uma ação de acordo com o estado/cenário atual. O objetivo é que o agente aprenda a pegar o passageiro numa posição e deixá-lo no destino.\n",
    "\n",
    "<img src=\"imagens/taxienv.png\" width=\"400px\" />\n",
    "\n",
    "* 5 x 5 = 25 possíveis posições\n",
    "* Posição atual do táxi (3,1) - Linha 3 e Coluna 1\n",
    "* 4 locais para pegar (pick up) e deixar (drop off) passageiros: R, G, Y B\n",
    "* Locais\n",
    "    * R (0,0) \n",
    "    * G (0,4) \n",
    "    * Y (4,0) \n",
    "    * B (4,3)\n",
    "* Posição do Passageiro sempre estará em AZUL\n",
    "* O destino do passageiro estará sempre em ROSA\n",
    "* Logo, no cenário atual o passageiro está no Y e deseja chegar no R\n",
    "* As possíveis posições do passageiro são os 4 locais, mais 1 da posição de dentro do táxi\n",
    "* Se a gente contabilizar todas as possíveis posições, teremos:\n",
    "    * Posições do Táxi (5x5) | 5 Posições do Passageiro | 4 destinos\n",
    "    * 5 x 5 x 5 x 4 = 500 estados/cenários possíveis\n",
    "    \n",
    "\n",
    "<table><tr>\n",
    "        <td>  \n",
    "        <ol>    \n",
    "            <center><h4>6 Possíveis Ações</h4></center>\n",
    "            <li>South (Sul)</li>\n",
    "            <li>North (Norte)</li>\n",
    "            <li>East  (Leste)</li>\n",
    "            <li>West  (Oeste)</li>\n",
    "            <li>Pickup (Pegar)</li>\n",
    "            <li>Dropoff (Deixar)</li>\n",
    "            </ol>\n",
    "        </td>\n",
    "        <td>\n",
    "        <img src=\"imagens/rosadosventos.jpeg\" width=\"200px\"/>\n",
    "        </td>    \n",
    "       </tr>\n",
    "</table>\n",
    "\n",
    "<br>\n",
    "<br>"
   ]
  },
  {
   "cell_type": "code",
   "execution_count": null,
   "metadata": {},
   "outputs": [],
   "source": []
  },
  {
   "cell_type": "code",
   "execution_count": null,
   "metadata": {},
   "outputs": [],
   "source": []
  },
  {
   "cell_type": "markdown",
   "metadata": {},
   "source": [
    "O objetivo é pegar um passageiro em um local e deixá-lo no destino requerido.\n",
    "* **Recebe +20 pontos** quando deixar um passageiro no destino correto\n",
    "* **Perder -1 ponto** a cada movimento que ele dá\n",
    "* **Perde -10 pontos** para tentativa de pegar ou deixar o passageiro numa posição ilegal\n",
    "\n",
    "O agente aprende a fazer 6 ações de 0-5\n",
    "* 0 = south\n",
    "* 1 = north\n",
    "* 2 = east\n",
    "* 3 = west\n",
    "* 4 = pickup\n",
    "* 5 = dropoff\n",
    "\n",
    "PS1: Quando o táxi está com um passageiro dentro, sua cor muda para **verde**. <br>\n",
    "PS2: Os 500 estados possíveis, numerados de 0-499 são uma codificação da posição do táxi, passageiro, e destino.\n",
    "<br>PS3: O táxi não consegue fazer nenhum movimento em direção a parede. Quando o faz, **perde -1** e não sai do lugar."
   ]
  },
  {
   "cell_type": "code",
   "execution_count": null,
   "metadata": {},
   "outputs": [],
   "source": []
  },
  {
   "cell_type": "markdown",
   "metadata": {},
   "source": [
    "|Index|Letra\n",
    "|---|---|\n",
    "|  0 | R  |   \n",
    "| 1  | G  |   \n",
    "| 2  | Y  |  \n",
    "| 3  | B  |  "
   ]
  },
  {
   "cell_type": "markdown",
   "metadata": {},
   "source": [
    "### Renderizar o cenário da ilustração"
   ]
  },
  {
   "cell_type": "code",
   "execution_count": null,
   "metadata": {},
   "outputs": [],
   "source": []
  },
  {
   "cell_type": "markdown",
   "metadata": {},
   "source": [
    "### Tabela da Recompensa\n",
    "<br>{ação: [(probabilidade, próximo_estado, recompensa, terminado)]\n",
    "<br>ação: [(probabilidade, próximo_estado, recompensa, terminado)]\n",
    "<br>ação: [(probabilidade, próximo_estado, recompensa, terminado)]\n",
    "<br>ação: [(probabilidade, próximo_estado, recompensa, terminado)]\n",
    "<br>ação: [(probabilidade, próximo_estado, recompensa, terminado)]\n",
    "<br>ação: [(probabilidade, próximo_estado, recompensa, terminado)]}"
   ]
  },
  {
   "cell_type": "code",
   "execution_count": null,
   "metadata": {},
   "outputs": [],
   "source": []
  },
  {
   "cell_type": "markdown",
   "metadata": {},
   "source": [
    "### Solucionando Sem Aprendizagem Reinforçada"
   ]
  },
  {
   "cell_type": "code",
   "execution_count": null,
   "metadata": {},
   "outputs": [],
   "source": []
  },
  {
   "cell_type": "code",
   "execution_count": null,
   "metadata": {},
   "outputs": [],
   "source": []
  },
  {
   "cell_type": "markdown",
   "metadata": {},
   "source": [
    "### Com Aprendizagem Reinforçada\n",
    "\n",
    "#### Q-learning\n",
    "Essencialmente, o agente vai aprender através das recompensas(positivas e negativas) com um tempo a tomar a melhor decisão para um determinado estado.\n",
    "\n",
    "* Temos a tabela da recompensa P que é de onde o agente vai aprender, ao tomar uma ação no estado atual e observando a recompensa/punição, atualiza o valor-Q (Q-value).\n",
    "* O valor-Q para um estado/cenário representa a \"qualidade\" da ação que ele irá tomar\n",
    "\n",
    "Os valores-Q são inicializados de forma aleatória, e o agente se expõe ao ambiente, onde recebe diferentes recompensas (positivas e negativas) ao tomar diferentes ações, de forma que os valores-Q são atualizados usando a seguinte fórmula:\n",
    "\n",
    "$$Q({\\small estado}, {\\small ação}) = (1 - \\alpha) \\cdot Q({\\small estado}, {\\small ação}) + \\alpha \\Big({\\small recompensa} + {\\gamma \\max}_{a} Q({\\small próximo \\ estado}, {\\small todas \\ ações})\\Big)$$\n",
    "\n",
    "Onde:\n",
    "- $\\Large \\alpha$ (Alpha) é a taxa de aprendizagem (entre 0 e 1)\n",
    "- $\\Large \\gamma$ (Gamma) é o fator de desconto também (entre 0 e 1), que significa o quanto de importância a gente quer dar para uma recompensa. De forma que 0 faz com que o agente se preocupe apenas com a recompensa imediata. O ideal é que o agente tome as ações considerando as recompensas do estado atual, e o máximo de recompensa para o próximo estado."
   ]
  },
  {
   "cell_type": "markdown",
   "metadata": {},
   "source": [
    "# Tabela-Q\n",
    "<img src=\"imagens/qtable.png\">"
   ]
  },
  {
   "cell_type": "markdown",
   "metadata": {},
   "source": [
    "* A Tabela-Q tem seus valores inicializados como 0, e depois vão sendo atualizados conforme o agente vai tomando ações no ambiente e obtendo o máximo de recompensas\n",
    "\n",
    "### Resumindo\n",
    "* Inicializa a tabela-Q com zeros\n",
    "* Começa a explorar o ambiente com ações, seleciona uma de todas as ações possíveis no estado atual ($Es_{1}$)\n",
    "* Vai para o próximo estado ($Es_{2}$) como resultado da ação ($A_{1}$)\n",
    "* De todas as possíveis ações no estado ($Es_{2}$) seleciona a que possui o maior valor-Q\n",
    "* Atualiza a tabela-Q usando a equação\n",
    "* Define o próximo estado como o estado atual\n",
    "* Se o objetivo é alcançado, termina, senão, repete o processo"
   ]
  },
  {
   "cell_type": "code",
   "execution_count": null,
   "metadata": {},
   "outputs": [],
   "source": []
  },
  {
   "cell_type": "markdown",
   "metadata": {},
   "source": [
    "### Explorando valores aprendidos\n",
    "Depois de explorar ações aleatórias, os valores-Q tendem a se divergirem, de forma que o agente vai poder escolher a melhor ação possível para um determinado estado.\n",
    "\n",
    "Existe um meio termo entre explorar (escolher uma ação aleatória) e usufruir (escolher ações baseadas em valores-Q já aprendidos/treinados). Nós queremos impedir o agente de ficar toda vez fazendo os exatos movimentos, e possivelmente se super-adequando _(overfitting)_. Para evitar isso, usamos mais um parâmetro chamado $\\Large \\epsilon$ \"epsilon\" para equilibrar essas ações durante o treino do agente.\n",
    "\n",
    "Ao invés de apenas selecionar o melhor valor-Q, algumas vezes vamos explorar novas ações. Um epsilon pequeno trás mais punições (em média), o que é natural, uma vez que estamos explorando tomando ações aleatórias."
   ]
  },
  {
   "cell_type": "markdown",
   "metadata": {},
   "source": [
    "## Treinando o Agente"
   ]
  },
  {
   "cell_type": "code",
   "execution_count": null,
   "metadata": {},
   "outputs": [],
   "source": []
  },
  {
   "cell_type": "markdown",
   "metadata": {},
   "source": [
    "Agora que já treinamos o Agente, não precisamos mais explorar. Vamos apenas selecionar sempre a melhor ação escolhendo o melhor valor-Q."
   ]
  },
  {
   "cell_type": "code",
   "execution_count": null,
   "metadata": {},
   "outputs": [],
   "source": []
  },
  {
   "cell_type": "code",
   "execution_count": null,
   "metadata": {},
   "outputs": [],
   "source": []
  },
  {
   "cell_type": "markdown",
   "metadata": {},
   "source": [
    "## Otimizações de Hiperparâmetros"
   ]
  },
  {
   "cell_type": "markdown",
   "metadata": {},
   "source": [
    "Alpha, gamma e epsilon foram definidos baseados na intuição, mas existem melhores formas de escolher os melhores parâmetros e ter um desempenho melhor.\n",
    "\n",
    "* $\\Large \\alpha$ (Alpha) - (Taxa de aprendizagem) = Deveria diminuir com o tempo, para o agente aprender cada vez mais e mais\n",
    "* $\\Large \\gamma$ (Gamma) - Quanto mais próximo você está do objetivo final, maior deveria ser a preferência para a recompensa imediata\n",
    "* $\\Large \\epsilon$ (Epsilon) - Quanto mais experiência tem o agente, menos precisará explorar. Logo, o epsilon deve diminuir com o tempo.\n",
    "\n",
    "* Poderíamos aplicar uma pesquisa pelos melhores parâmetros, similar ao GridSearch que vimos para os modelos preditivos. "
   ]
  },
  {
   "cell_type": "markdown",
   "metadata": {},
   "source": [
    "Fontes (em inglês):\n",
    "* https://gym.openai.com/\n",
    "* https://www.learndatasci.com/tutorials/reinforcement-q-learning-scratch-python-openai-gym/"
   ]
  }
 ],
 "metadata": {
  "kernelspec": {
   "display_name": "Python 3",
   "language": "python",
   "name": "python3"
  },
  "language_info": {
   "codemirror_mode": {
    "name": "ipython",
    "version": 3
   },
   "file_extension": ".py",
   "mimetype": "text/x-python",
   "name": "python",
   "nbconvert_exporter": "python",
   "pygments_lexer": "ipython3",
   "version": "3.7.3"
  }
 },
 "nbformat": 4,
 "nbformat_minor": 2
}

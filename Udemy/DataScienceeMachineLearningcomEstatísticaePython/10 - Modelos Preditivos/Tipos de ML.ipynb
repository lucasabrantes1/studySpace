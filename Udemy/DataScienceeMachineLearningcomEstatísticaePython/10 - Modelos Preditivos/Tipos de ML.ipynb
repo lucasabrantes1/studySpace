{
 "cells": [
  {
   "cell_type": "markdown",
   "metadata": {},
   "source": [
    "# Aprendizagem Supervisionada\n",
    "* Definição: ensinamos a máquina usando rótulos\n",
    "* Tipos de Problemas: Regressão e Classificação.\n",
    "* Tipos de Dados: Dados rotulados\n",
    "* Treino(Aprendizagem): Supervisão externa\n",
    "* Usabilidade: Prever ou estimar resultados\n",
    "* Abordagem: Entrada (Input) rotulado e Saída (Output) conhecida\n",
    "* Feedback: Direto (Saída conhecida)\n",
    "* Algoritmos: \n",
    "    * Linear Regression\n",
    "    * Logistic Regression\n",
    "    * Support Vector Machine\n",
    "    * K Nearest Neighbour\n",
    "    * Random Forest"
   ]
  },
  {
   "cell_type": "markdown",
   "metadata": {},
   "source": [
    "# Aprendizagem Não-Supervisionada\n",
    "* Definição: a máquina aprende sozinha sem nenhuma supervisão\n",
    "* Tipos de Problemas: Associação e Clustering (Agrupamentos)\n",
    "* Tipos de Dados: Dados não-rotulados \n",
    "* Treino(Aprendizagem): Nenhuma Supervisão\n",
    "* Usabilidade: Descobrir padrões e associações\n",
    "* Abordagem: Entender padrões e descobrir a saída (output)\n",
    "* Feedback: Nenhum\n",
    "* Algoritmos:\n",
    "    * K-Means\n",
    "    * Apriori\n",
    "    * C-Means"
   ]
  },
  {
   "cell_type": "markdown",
   "metadata": {},
   "source": [
    "# Aprendizagem Reinforçada\n",
    "* Definição: o agente (máquina) interage com o ambiente produzindo ações que dão a ele **punições** e **recompensas**\n",
    "* Tipos de Problemas: Labirintos\n",
    "* Tipos de Dados: Nenhum Dado Pré-definido\n",
    "* Treino(Aprendizagem): Nenhuma supervisão\n",
    "* Usabilidade: Aprender uma série de ações \n",
    "* Abordagem: Método de Tentativa e Erro \n",
    "* Feedback: Recompensa x Punições\n",
    "* Algoritmos:\n",
    "    * Q-Learning\n",
    "    * SARSA"
   ]
  },
  {
   "cell_type": "markdown",
   "metadata": {},
   "source": [
    "Fonte (em inglês): https://www.youtube.com/watch?v=xtOg44r6dsE"
   ]
  }
 ],
 "metadata": {
  "kernelspec": {
   "display_name": "Python 3",
   "language": "python",
   "name": "python3"
  },
  "language_info": {
   "codemirror_mode": {
    "name": "ipython",
    "version": 3
   },
   "file_extension": ".py",
   "mimetype": "text/x-python",
   "name": "python",
   "nbconvert_exporter": "python",
   "pygments_lexer": "ipython3",
   "version": "3.7.3"
  }
 },
 "nbformat": 4,
 "nbformat_minor": 2
}
